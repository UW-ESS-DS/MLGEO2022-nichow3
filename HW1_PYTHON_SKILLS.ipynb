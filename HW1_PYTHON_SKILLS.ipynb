{
 "cells": [
  {
   "cell_type": "markdown",
   "id": "c401cf69-2130-4704-9661-8ef848cf1b9d",
   "metadata": {},
   "source": [
    "# Homework 1 Python Skills "
   ]
  },
  {
   "cell_type": "markdown",
   "id": "cf1db288-55a5-429f-b61a-779e2b4d0195",
   "metadata": {},
   "source": [
    "First we demonstrate how to import modules in Python"
   ]
  },
  {
   "cell_type": "code",
   "execution_count": null,
   "id": "e1d708e5-4814-404e-950c-b41e279532b4",
   "metadata": {},
   "outputs": [],
   "source": [
    "import numpy as np\n",
    "import pandas as pd\n",
    "import plotly.express as px\n",
    "import plotly.io as pio\n",
    "import io\n",
    "import requests\n",
    "import time\n",
    "from datetime import datetime, timedelta\n",
    "import matplotlib.pyplot as plt"
   ]
  },
  {
   "cell_type": "markdown",
   "id": "c79e2e3e-416d-4d58-ad7c-426956e0d753",
   "metadata": {},
   "source": [
    "Next, we demo now to declare lists and NumPy arrays"
   ]
  },
  {
   "cell_type": "code",
   "execution_count": null,
   "id": "14f6179d-eba0-4488-812a-08fc764fa6d8",
   "metadata": {},
   "outputs": [],
   "source": [
    "# This is a list \n",
    "xlist = [1,2,3,4,5]\n",
    "print(type(xlist))\n",
    "#This is an array\n",
    "x_array = np.arange(100)\n",
    "print(type(x_array))\n",
    "\n",
    "#They are different data types and will work differently with different operations)\n",
    "    "
   ]
  },
  {
   "cell_type": "markdown",
   "id": "ea01731a-3495-4b0b-965a-6a6333a205ca",
   "metadata": {},
   "source": [
    "## Making basic Plots "
   ]
  },
  {
   "cell_type": "code",
   "execution_count": null,
   "id": "460904cb-93ee-4249-b9b1-7ff7c95224e7",
   "metadata": {},
   "outputs": [],
   "source": [
    "x = np.linspace(1,50,50)\n",
    "y = np.sin(x)\n",
    "\n",
    "\n",
    "fig = plt.plot(x,y, 'g:')  \n",
    "plt.xlabel('x label')\n",
    "plt.ylabel('y label')\n",
    "plt.title(\"Example Plot 1\")\n",
    "plt.show()\n",
    "plt.savefig('N_Wolf_fig1.png')"
   ]
  },
  {
   "cell_type": "markdown",
   "id": "0281726d-7be2-4f00-8539-b447b9114d62",
   "metadata": {},
   "source": [
    "## Declaration of functions"
   ]
  },
  {
   "cell_type": "code",
   "execution_count": null,
   "id": "0dddcf79-813e-41ac-bbb9-7e598fadd75e",
   "metadata": {},
   "outputs": [],
   "source": [
    "n = np.arange(100); \n",
    "print(n)\n",
    "\n",
    "def addup(x):\n",
    "    soln = 0\n",
    "    for i in range(len(x)):\n",
    "       soln = soln + x\n",
    "    return soln\n",
    "\n",
    "addup(n)\n",
    "\n"
   ]
  },
  {
   "cell_type": "code",
   "execution_count": null,
   "id": "26f1c50d-8b16-4601-98ed-6cb5d9968727",
   "metadata": {},
   "outputs": [],
   "source": []
  }
 ],
 "metadata": {
  "kernelspec": {
   "display_name": "Python 3 (ipykernel)",
   "language": "python",
   "name": "python3"
  },
  "language_info": {
   "codemirror_mode": {
    "name": "ipython",
    "version": 3
   },
   "file_extension": ".py",
   "mimetype": "text/x-python",
   "name": "python",
   "nbconvert_exporter": "python",
   "pygments_lexer": "ipython3",
   "version": "3.8.13"
  }
 },
 "nbformat": 4,
 "nbformat_minor": 5
}
